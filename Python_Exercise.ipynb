{
  "nbformat": 4,
  "nbformat_minor": 0,
  "metadata": {
    "colab": {
      "name": "Python Exercise.ipynb",
      "provenance": [],
      "collapsed_sections": [],
      "authorship_tag": "ABX9TyO7DjacQBc9gk2QqQVwIifm",
      "include_colab_link": true
    },
    "kernelspec": {
      "name": "python3",
      "display_name": "Python 3"
    },
    "language_info": {
      "name": "python"
    }
  },
  "cells": [
    {
      "cell_type": "markdown",
      "metadata": {
        "id": "view-in-github",
        "colab_type": "text"
      },
      "source": [
        "<a href=\"https://colab.research.google.com/github/STP-PMT/AI/blob/main/Python_Exercise.ipynb\" target=\"_parent\"><img src=\"https://colab.research.google.com/assets/colab-badge.svg\" alt=\"Open In Colab\"/></a>"
      ]
    },
    {
      "cell_type": "code",
      "metadata": {
        "id": "ZcmIoUP4bpwq"
      },
      "source": [
        "#1\n",
        "l=[]\n",
        "for i in range(2000,3201):\n",
        "  if(i%7==0)and(i%5!=0):\n",
        "    l.append(str(i))\n",
        "print(','.join(l))"
      ],
      "execution_count": null,
      "outputs": []
    },
    {
      "cell_type": "code",
      "metadata": {
        "id": "O-SRnncmioRs"
      },
      "source": [
        "#2\n",
        "def fact(x):\n",
        "  print(x)\n",
        "  if x==0:\n",
        "     return 1\n",
        "  return x*fact(x-1)\n",
        "x=int(input())\n",
        "print(fact(x))"
      ],
      "execution_count": null,
      "outputs": []
    },
    {
      "cell_type": "code",
      "metadata": {
        "id": "U2p6kWupqtGx"
      },
      "source": [
        "#3\n",
        "n=int(input())\n",
        "d=dict()\n",
        "for i in range(1,n+1):\n",
        "  d[i]=i*i \n",
        "print(d)\n",
        "print(type(d))"
      ],
      "execution_count": null,
      "outputs": []
    },
    {
      "cell_type": "code",
      "metadata": {
        "id": "uGjGRRbut9Lt"
      },
      "source": [
        "#4\n",
        "values = input()\n",
        "l = values.split(',')\n",
        "t = tuple(l)\n",
        "print(l)\n",
        "print(t)\n",
        "\n",
        "print(type(l))\n",
        "print(type(t))"
      ],
      "execution_count": null,
      "outputs": []
    },
    {
      "cell_type": "code",
      "metadata": {
        "id": "3VCGPbV_w10N"
      },
      "source": [
        "#5\n",
        "class InputOutString(object):\n",
        "  def __init__(this):\n",
        "    this.s = \"\"\n",
        "  def getString(this):\n",
        "    this.s = input()\n",
        "  def printString(this):\n",
        "    print(this.s.upper())\n",
        "\n",
        "strObj = InputOutString()\n",
        "strObj.getString()\n",
        "strObj.printString()"
      ],
      "execution_count": null,
      "outputs": []
    },
    {
      "cell_type": "code",
      "metadata": {
        "id": "WhdMPDHQAMjO"
      },
      "source": [
        "#6\n",
        "import math\n",
        "c=50\n",
        "h=30\n",
        "value = []\n",
        "items = [x for x in input().split(',')]\n",
        "for d in items:\n",
        "  value.append(str(int(round(math.sqrt(2*c*float(d)/h)))))\n",
        "print(','.join(value))"
      ],
      "execution_count": null,
      "outputs": []
    },
    {
      "cell_type": "code",
      "metadata": {
        "id": "f9w8KKNRNb15"
      },
      "source": [
        "#7\n",
        "input_str = input()\n",
        "dimensions = [int(x) for x in input_str.split(',')]\n",
        "rowNum = dimensions[0]\n",
        "colNum = dimensions[1]\n",
        "multilist =[[0 for col in range(colNum)] for row in range(rowNum)]\n",
        "\n",
        "for row in range(rowNum):\n",
        "  for col in range(colNum):\n",
        "    multilist[row][col]=row*col\n",
        "print(multilist)\n"
      ],
      "execution_count": null,
      "outputs": []
    },
    {
      "cell_type": "code",
      "metadata": {
        "id": "ujIWWJAXi27h"
      },
      "source": [
        "#8\n",
        "items = [x for x in input().split(',')]\n",
        "items.sort()\n",
        "print(','.join(items))"
      ],
      "execution_count": null,
      "outputs": []
    },
    {
      "cell_type": "code",
      "metadata": {
        "id": "b28efD4ZkIZu"
      },
      "source": [
        "#9 \n",
        "lines = []\n",
        "while True:\n",
        "  s = input()\n",
        "  if s:\n",
        "    lines.append(s.upper())\n",
        "  else:\n",
        "    break;\n",
        "for sentence in lines:\n",
        "  print(sentence)"
      ],
      "execution_count": null,
      "outputs": []
    },
    {
      "cell_type": "code",
      "metadata": {
        "id": "OtcQUcJQok0t"
      },
      "source": [
        "#10\n",
        "s = input()\n",
        "words = [word for word in s.split(\" \")]\n",
        "print(\" \".join(sorted(list(set(words)))))"
      ],
      "execution_count": null,
      "outputs": []
    },
    {
      "cell_type": "code",
      "metadata": {
        "id": "n7wjfBrklV52"
      },
      "source": [
        ""
      ],
      "execution_count": null,
      "outputs": []
    }
  ]
}